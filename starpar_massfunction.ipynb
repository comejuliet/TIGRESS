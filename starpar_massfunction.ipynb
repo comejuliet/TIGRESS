{
 "cells": [
  {
   "cell_type": "code",
   "execution_count": 1,
   "id": "be76deb4",
   "metadata": {},
   "outputs": [],
   "source": [
    "import pyathena as pa\n",
    "import sys\n",
    "import os\n",
    "import os.path as osp\n",
    "import numpy as np\n",
    "import seaborn as sns\n",
    "import pandas as pd\n",
    "import matplotlib as mpl\n",
    "import matplotlib.pyplot as plt\n",
    "from matplotlib.colors import Normalize, LogNorm\n",
    "from mpl_toolkits.axes_grid1 import ImageGrid\n",
    "from mpl_toolkits.axes_grid1 import make_axes_locatable\n",
    "import statistics\n",
    "import xarray as xr\n",
    "import _pickle as pickle\n",
    "\n",
    "sys.path.insert(0,'..')"
   ]
  },
  {
   "cell_type": "code",
   "execution_count": 2,
   "id": "ac70b6db",
   "metadata": {},
   "outputs": [
    {
     "name": "stderr",
     "output_type": "stream",
     "text": [
      "LoadSim-INFO: savdir : /home/comejuliet/TIGRESS\n",
      "LoadSim-INFO: basedir: /home/comejuliet/TIGRESS\n",
      "LoadSim-INFO: athinput: /home/comejuliet/TIGRESS/out.txt\n",
      "LoadSim-INFO: problem_id: R8_8pc_NCRSP\n",
      "LoadSim-INFO: timeit.txt not found.\n",
      "LoadSim-INFO: hst: /home/comejuliet/TIGRESS/hst/R8_8pc_NCRSP.hst\n",
      "LoadSim-INFO: sn: /home/comejuliet/TIGRESS/hst/R8_8pc_NCRSP.sn\n",
      "LoadSim-INFO: vtk in tar: /home/comejuliet/TIGRESS/vtk nums: 200-390\n",
      "LoadSim-INFO: starpar_vtk: /home/comejuliet/TIGRESS/starpar nums: 0-438\n",
      "LoadSim-WARNING: zprof files not found in /home/comejuliet/TIGRESS.\n",
      "LoadSim-WARNING: rst files not found in /home/comejuliet/TIGRESS.\n",
      "/home/comejuliet/miniconda3/envs/pyathena/lib/python3.10/site-packages/dateutil/parser/_parser.py:1207: UnknownTimezoneWarning: tzname PDT identified but not understood.  Pass `tzinfos` argument in order to correctly return a timezone-aware datetime.  In a future version, this will raise an exception.\n",
      "  warnings.warn(\"tzname {tzname} identified but not understood.  \"\n"
     ]
    }
   ],
   "source": [
    "# in here are stored all the data from the simulation \n",
    "data = pa.LoadSim('/home/comejuliet/TIGRESS', verbose = True)"
   ]
  },
  {
   "cell_type": "code",
   "execution_count": 3,
   "id": "c53c4d79",
   "metadata": {},
   "outputs": [],
   "source": [
    "units=data.u"
   ]
  },
  {
   "cell_type": "code",
   "execution_count": 4,
   "id": "93b22dea",
   "metadata": {},
   "outputs": [],
   "source": [
    "def norm_log_hist_plot(hist,edges,**kwargs):\n",
    "    if hist.sum() > 0: \n",
    "        plt.bar(edges[:-1],hist,np.diff(edges),align='edge',**kwargs)\n",
    "def norm_log_line_plot(hist,edges,**kwargs):\n",
    "    if hist.sum() > 0: \n",
    "        plt.plot(edges[:-1]+0.5*np.diff(edges),hist,**kwargs)"
   ]
  },
  {
   "cell_type": "code",
   "execution_count": 5,
   "id": "829d0807",
   "metadata": {},
   "outputs": [],
   "source": [
    "def plot_sf_mass_func(sf):\n",
    "\n",
    "    sp=data.load_starpar_vtk(num=sf)\n",
    "\n",
    "    plt.ylim(0.5,500)\n",
    "    plt.xlim(2,7)\n",
    "    plt.yscale('log')\n",
    "\n",
    "    if len(sp) >0:\n",
    "        if 'flag' in sp:\n",
    "            cl=sp[(sp.mass > 0) & (sp.flag > -2)]\n",
    "            cl_young=sp[(sp.mass > 0) & (sp.flag > -2) & (sp.mage*units.Myr < 40)]\n",
    "            cl_ini=sp[(sp.mass > 0) & (sp.flag == -2)]\n",
    "        else:\n",
    "            cl=sp[(sp.mass > 0) & (sp.age < sp.time)]\n",
    "            cl_young=sp[(sp.mass > 0) & (sp.age < sp.time) & (sp.age*units.Myr < 40)]\n",
    "            cl_ini=sp[(sp.mass > 0) & (sp.age > sp.time)]\n",
    "\n",
    "        cl_hist,cl_edges=np.histogram(np.log10(cl.mass*units.Msun),range=[2,7],bins=50)\n",
    "        cl_young_hist,cl_young_edges=np.histogram(np.log10(cl_young.mass*units.Msun),range=[2,7],bins=50)\n",
    "        cl_ini_hist,cl_ini_edges=np.histogram(np.log10(cl_ini.mass*units.Msun),range=[2,7],bins=50)\n",
    "\n",
    "        norm_log_hist_plot(cl_ini_hist,cl_ini_edges,alpha=0.5,label='initial clusters',color='C0')\n",
    "        norm_log_hist_plot(cl_hist,cl_edges,alpha=0.8,label='all new clusters',color='C1')\n",
    "        norm_log_hist_plot(cl_young_hist,cl_young_edges,label='new young clusters',color='C2')\n",
    "\n",
    "        plt.text(6.,10,'t={:6.2f}Myr'.format(sp.time*units.Myr))\n",
    "        #print(sp.time*units.Myr)\n"
   ]
  },
  {
   "cell_type": "code",
   "execution_count": 6,
   "id": "3a7e310d",
   "metadata": {},
   "outputs": [],
   "source": [
    "def calc_normed_mass_funct(sf,trange=None,bins=50):\n",
    "\n",
    "    sp=data.load_starpar_vtk(num=sf)\n",
    "\n",
    "    if len(sp) >0:\n",
    "        if trange == None:\n",
    "            t1 = 0\n",
    "            t2 = sp.time\n",
    "        else:\n",
    "            t1,t2 = trange\n",
    "        birth_time = sp.time-sp.age\n",
    "        if 'flag' in sp:\n",
    "            cl=sp[(sp.mass > 0) & (sp.flag > -2) & (birth_time > t1) & (birth_time < t2)]\n",
    "        else:\n",
    "            cl=sp[(sp.mass > 0) & (birth_time > t1) & (birth_time < t2)]\n",
    "\n",
    "        cl_hist,cl_edges=np.histogram(np.log10(cl.mass*units.Msun),range=[2,7],bins=bins)\n",
    "\n",
    "        return cl_hist, cl_edges, sp.time*units.Myr"
   ]
  },
  {
   "cell_type": "code",
   "execution_count": 7,
   "id": "0516144e",
   "metadata": {},
   "outputs": [
    {
     "name": "stderr",
     "output_type": "stream",
     "text": [
      "LoadSim-INFO: [load_starpar_vtk]: R8_8pc_NCRSP.0200.starpar.vtk. Time: 200.001200\n",
      "LoadSim-INFO: [load_starpar_vtk]: R8_8pc_NCRSP.0210.starpar.vtk. Time: 210.000100\n"
     ]
    },
    {
     "name": "stdout",
     "output_type": "stream",
     "text": [
      "200\n",
      "210\n"
     ]
    },
    {
     "name": "stderr",
     "output_type": "stream",
     "text": [
      "LoadSim-INFO: [load_starpar_vtk]: R8_8pc_NCRSP.0220.starpar.vtk. Time: 220.000400\n",
      "LoadSim-INFO: [load_starpar_vtk]: R8_8pc_NCRSP.0230.starpar.vtk. Time: 230.000300\n"
     ]
    },
    {
     "name": "stdout",
     "output_type": "stream",
     "text": [
      "220\n",
      "230\n",
      "240\n"
     ]
    },
    {
     "name": "stderr",
     "output_type": "stream",
     "text": [
      "LoadSim-INFO: [load_starpar_vtk]: R8_8pc_NCRSP.0240.starpar.vtk. Time: 240.001400\n",
      "LoadSim-INFO: [load_starpar_vtk]: R8_8pc_NCRSP.0250.starpar.vtk. Time: 250.000600\n",
      "LoadSim-INFO: [load_starpar_vtk]: R8_8pc_NCRSP.0260.starpar.vtk. Time: 260.000500\n"
     ]
    },
    {
     "name": "stdout",
     "output_type": "stream",
     "text": [
      "250\n",
      "260\n"
     ]
    },
    {
     "name": "stderr",
     "output_type": "stream",
     "text": [
      "LoadSim-INFO: [load_starpar_vtk]: R8_8pc_NCRSP.0270.starpar.vtk. Time: 270.000900\n",
      "LoadSim-INFO: [load_starpar_vtk]: R8_8pc_NCRSP.0280.starpar.vtk. Time: 280.000800\n"
     ]
    },
    {
     "name": "stdout",
     "output_type": "stream",
     "text": [
      "270\n",
      "280\n",
      "290\n"
     ]
    },
    {
     "name": "stderr",
     "output_type": "stream",
     "text": [
      "LoadSim-INFO: [load_starpar_vtk]: R8_8pc_NCRSP.0290.starpar.vtk. Time: 290.000500\n",
      "LoadSim-INFO: [load_starpar_vtk]: R8_8pc_NCRSP.0300.starpar.vtk. Time: 300.000900\n",
      "LoadSim-INFO: [load_starpar_vtk]: R8_8pc_NCRSP.0310.starpar.vtk. Time: 310.001400\n"
     ]
    },
    {
     "name": "stdout",
     "output_type": "stream",
     "text": [
      "300\n",
      "310\n",
      "320\n"
     ]
    },
    {
     "name": "stderr",
     "output_type": "stream",
     "text": [
      "LoadSim-INFO: [load_starpar_vtk]: R8_8pc_NCRSP.0320.starpar.vtk. Time: 320.001400\n",
      "LoadSim-INFO: [load_starpar_vtk]: R8_8pc_NCRSP.0330.starpar.vtk. Time: 330.000400\n"
     ]
    },
    {
     "name": "stdout",
     "output_type": "stream",
     "text": [
      "330\n"
     ]
    },
    {
     "name": "stderr",
     "output_type": "stream",
     "text": [
      "LoadSim-INFO: [load_starpar_vtk]: R8_8pc_NCRSP.0340.starpar.vtk. Time: 340.000800\n",
      "LoadSim-INFO: [load_starpar_vtk]: R8_8pc_NCRSP.0350.starpar.vtk. Time: 350.000600\n"
     ]
    },
    {
     "name": "stdout",
     "output_type": "stream",
     "text": [
      "340\n",
      "350\n",
      "360\n"
     ]
    },
    {
     "name": "stderr",
     "output_type": "stream",
     "text": [
      "LoadSim-INFO: [load_starpar_vtk]: R8_8pc_NCRSP.0360.starpar.vtk. Time: 360.000100\n",
      "LoadSim-INFO: [load_starpar_vtk]: R8_8pc_NCRSP.0370.starpar.vtk. Time: 370.000200\n",
      "LoadSim-INFO: [load_starpar_vtk]: R8_8pc_NCRSP.0380.starpar.vtk. Time: 380.000400\n"
     ]
    },
    {
     "name": "stdout",
     "output_type": "stream",
     "text": [
      "370\n",
      "380\n"
     ]
    },
    {
     "name": "stderr",
     "output_type": "stream",
     "text": [
      "LoadSim-INFO: [load_starpar_vtk]: R8_8pc_NCRSP.0390.starpar.vtk. Time: 390.000300\n"
     ]
    },
    {
     "name": "stdout",
     "output_type": "stream",
     "text": [
      "390\n"
     ]
    },
    {
     "data": {
      "image/png": "[encoded data removed]",
      "text/plain": [
       "<Figure size 640x480 with 1 Axes>"
      ]
     },
     "metadata": {},
     "output_type": "display_data"
    }
   ],
   "source": [
    "nums = data.nums\n",
    "npt = len(nums)\n",
    "for l in range(npt):\n",
    "    sf = nums[l]\n",
    "    plt.clf()\n",
    "    print(sf)\n",
    "    plot_sf_mass_func(sf)\n",
    "    plt.legend()"
   ]
  },
  {
   "cell_type": "code",
   "execution_count": 10,
   "id": "3173a2b5",
   "metadata": {},
   "outputs": [
    {
     "name": "stderr",
     "output_type": "stream",
     "text": [
      "LoadSim-INFO: [load_starpar_vtk]: R8_8pc_NCRSP.0390.starpar.vtk. Time: 390.000300\n",
      "No artists with labels found to put in legend.  Note that artists whose label start with an underscore are ignored when legend() is called with no argument.\n"
     ]
    },
    {
     "data": {
      "image/png": "[encoded data removed]",
      "text/plain": [
       "<Figure size 640x480 with 1 Axes>"
      ]
     },
     "metadata": {},
     "output_type": "display_data"
    }
   ],
   "source": [
    "nums = data.nums\n",
    "npt = len(nums)\n",
    "sf = nums[19]\n",
    "cl_hist,cl_edges,time=calc_normed_mass_funct(sf,bins=25)\n",
    "norm_log_line_plot(cl_hist,cl_edges,alpha=0.5)\n",
    "plt.legend()\n",
    "plt.yscale('log')"
   ]
  },
  {
   "cell_type": "code",
   "execution_count": null,
   "id": "8bdf0a09",
   "metadata": {},
   "outputs": [],
   "source": []
  }
 ],
 "metadata": {
  "kernelspec": {
   "display_name": "Python 3 (ipykernel)",
   "language": "python",
   "name": "python3"
  },
  "language_info": {
   "codemirror_mode": {
    "name": "ipython",
    "version": 3
   },
   "file_extension": ".py",
   "mimetype": "text/x-python",
   "name": "python",
   "nbconvert_exporter": "python",
   "pygments_lexer": "ipython3",
   "version": "3.10.6"
  }
 },
 "nbformat": 4,
 "nbformat_minor": 5
}
